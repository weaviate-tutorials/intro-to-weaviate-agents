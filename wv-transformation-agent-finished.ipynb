{
 "cells": [
  {
   "cell_type": "markdown",
   "id": "cd73df1c",
   "metadata": {},
   "source": [
    "# Transformation Agent Demo\n",
    "\n",
    "## Connect to the Weaviate Cloud instance\n",
    "\n",
    "> Reminder: Weaviate Agents are only available for Weaviate Cloud instances.\n",
    "\n",
    "Connect to your Weaviate instance, using credentials from the Weaviate Cloud console. Here, they are loaded from the `.env` file."
   ]
  },
  {
   "cell_type": "code",
   "execution_count": 1,
   "id": "a202cb87",
   "metadata": {},
   "outputs": [],
   "source": [
    "from dotenv import load_dotenv\n",
    "import weaviate\n",
    "import os\n",
    "\n",
    "load_dotenv()\n",
    "\n",
    "weaviate_url = os.getenv(\"WEAVIATE_URL\")\n",
    "weaviate_api_key = os.getenv(\"WEAVIATE_API_KEY\")\n",
    "\n",
    "client = weaviate.connect_to_weaviate_cloud(\n",
    "    cluster_url=weaviate_url,\n",
    "    auth_credentials=weaviate_api_key,\n",
    ")\n",
    "\n",
    "assert client.is_ready()"
   ]
  },
  {
   "cell_type": "markdown",
   "id": "803d1edf",
   "metadata": {},
   "source": [
    "## Add data"
   ]
  },
  {
   "cell_type": "code",
   "execution_count": 2,
   "id": "5c507a6f",
   "metadata": {},
   "outputs": [],
   "source": [
    "import json\n",
    "\n",
    "with open(\"data/simplified_posts.json\", \"r\") as f:\n",
    "    data = json.load(f)"
   ]
  },
  {
   "cell_type": "code",
   "execution_count": 3,
   "id": "6dcb180f",
   "metadata": {},
   "outputs": [],
   "source": [
    "client.collections.delete(\"ForumPost\")"
   ]
  },
  {
   "cell_type": "code",
   "execution_count": 4,
   "id": "f777f671",
   "metadata": {},
   "outputs": [
    {
     "name": "stderr",
     "output_type": "stream",
     "text": [
      "/Users/jphwang/code/weaviate-tutorials/weaviate-agents-workshop/.venv/lib/python3.12/site-packages/weaviate/collections/classes/config.py:1975: PydanticDeprecatedSince211: Accessing the 'model_fields' attribute on the instance is deprecated. Instead, you should access this attribute from the model class. Deprecated in Pydantic V2.11 to be removed in V3.0.\n",
      "  for cls_field in self.model_fields:\n"
     ]
    },
    {
     "data": {
      "text/plain": [
       "<weaviate.collections.collection.sync.Collection at 0x120f6b8f0>"
      ]
     },
     "execution_count": 4,
     "metadata": {},
     "output_type": "execute_result"
    }
   ],
   "source": [
    "from weaviate.classes.config import Configure, DataType, Property\n",
    "\n",
    "client.collections.create(\n",
    "    \"ForumPost\",\n",
    "    description=\"This collection contains conversations from the Weaviate Forum.\",\n",
    "    properties=[\n",
    "        Property(\n",
    "            name=\"user_id\",\n",
    "            description=\"Unique identifier for the user creating the thread.\",\n",
    "            data_type=DataType.INT,\n",
    "        ),\n",
    "        Property(\n",
    "            name=\"conversation\",\n",
    "            description=\"Text of the entire forum conversation thread, truncated to 20,000 characters maximum for context limit.\",\n",
    "            data_type=DataType.TEXT,\n",
    "        ),\n",
    "        Property(\n",
    "            name=\"conversation_full\",\n",
    "            description=\"Full text of the entire forum conversation thread.\",\n",
    "            data_type=DataType.TEXT,\n",
    "        ),\n",
    "        Property(\n",
    "            name=\"date_created\",\n",
    "            description=\"Date and time when the thread was first created.\",\n",
    "            data_type=DataType.DATE,\n",
    "        ),\n",
    "        Property(\n",
    "            name=\"has_accepted_answer\",\n",
    "            description=\"Whether the thread has an accepted answer.\",\n",
    "            data_type=DataType.BOOL,\n",
    "        ),\n",
    "        Property(\n",
    "            name=\"title\",\n",
    "            description=\"Title text of the forum thread.\",\n",
    "            data_type=DataType.TEXT,\n",
    "        ),\n",
    "        Property(\n",
    "            name=\"topic_id\",\n",
    "            description=\"Unique identifier for the topic of the thread.\",\n",
    "            data_type=DataType.INT,\n",
    "        ),\n",
    "    ],\n",
    "    vectorizer_config=[\n",
    "        Configure.NamedVectors.text2vec_weaviate(\n",
    "            name=\"default\", source_properties=[\"conversation_full\", \"title\"]\n",
    "        ),\n",
    "    ],\n",
    "    inverted_index_config=Configure.inverted_index(\n",
    "        index_null_state=True,\n",
    "        index_timestamps=True,\n",
    "    ),\n",
    ")\n"
   ]
  },
  {
   "cell_type": "code",
   "execution_count": 5,
   "id": "5c98978a",
   "metadata": {},
   "outputs": [
    {
     "name": "stderr",
     "output_type": "stream",
     "text": [
      "596it [00:00, 26294.92it/s]\n"
     ]
    }
   ],
   "source": [
    "from tqdm import tqdm\n",
    "from datetime import datetime, timezone\n",
    "from weaviate.util import generate_uuid5\n",
    "\n",
    "posts = client.collections.get(\"ForumPost\")\n",
    "\n",
    "with posts.batch.fixed_size(200) as batch:\n",
    "    for i, row in tqdm(enumerate(data)):\n",
    "        row[\"date_created\"] = datetime.fromisoformat(row[\"date_created\"]).replace(\n",
    "            tzinfo=timezone.utc\n",
    "        )\n",
    "        if len(row[\"conversation\"]) > 20000:\n",
    "            row[\"conversation\"] = (\n",
    "                row[\"conversation\"][:10000] + \"...\" + row[\"conversation\"][-10000:]\n",
    "            )\n",
    "        row[\"conversation_full\"] = row[\"conversation\"]\n",
    "        batch.add_object(properties=row, uuid=generate_uuid5(row[\"topic_id\"]))\n",
    "\n",
    "if posts.batch.failed_objects:\n",
    "    for obj in posts.batch.failed_objects[:5]:\n",
    "        print(f\"Failed to add object {obj['row_id']}: {obj.message}\")"
   ]
  },
  {
   "cell_type": "code",
   "execution_count": 6,
   "id": "5aab3475",
   "metadata": {},
   "outputs": [
    {
     "name": "stdout",
     "output_type": "stream",
     "text": [
      "596\n"
     ]
    }
   ],
   "source": [
    "print(len(posts))"
   ]
  },
  {
   "cell_type": "code",
   "execution_count": 7,
   "id": "d89cc58e",
   "metadata": {},
   "outputs": [
    {
     "name": "stdout",
     "output_type": "stream",
     "text": [
      "Currently existing properties:\n",
      "\n",
      "Property: user_id\n",
      "Property: conversation\n",
      "Property: conversation_full\n",
      "Property: date_created\n",
      "Property: has_accepted_answer\n",
      "Property: title\n",
      "Property: topic_id\n"
     ]
    }
   ],
   "source": [
    "collection = client.collections.get(\"ForumPost\")\n",
    "\n",
    "print(\"Currently existing properties:\\n\")\n",
    "for p in collection.config.get().properties:\n",
    "    print(f\"Property: {p.name}\")"
   ]
  },
  {
   "cell_type": "markdown",
   "id": "9d5675ef",
   "metadata": {},
   "source": [
    "## How to use the TA\n",
    "\n",
    "First, define the operation for the TA to perform:"
   ]
  },
  {
   "cell_type": "code",
   "execution_count": 8,
   "id": "45206bba",
   "metadata": {},
   "outputs": [],
   "source": [
    "from weaviate.classes.config import DataType\n",
    "from weaviate.agents.classes import Operations\n",
    "\n",
    "add_technical_complexity = Operations.append_property(\n",
    "    property_name=\"technicalComplexity\",\n",
    "    data_type=DataType.INT,\n",
    "    view_properties=[\"conversation\"],\n",
    "    instruction=\"\"\"\n",
    "    Rate the technical complexity of the user's forum post query\n",
    "    on a scale from 1 to 5, where 1 is very simple and 5 is very complex.\n",
    "    \"\"\",\n",
    ")"
   ]
  },
  {
   "cell_type": "markdown",
   "id": "1e36192c",
   "metadata": {},
   "source": [
    "### Run the TA\n",
    "\n",
    "The TA is run in an asynchronous way, so you can run it in the background and check the status later."
   ]
  },
  {
   "cell_type": "code",
   "execution_count": 9,
   "id": "85c62a80",
   "metadata": {},
   "outputs": [],
   "source": [
    "from weaviate.agents.transformation import TransformationAgent\n",
    "\n",
    "ta = TransformationAgent(\n",
    "    client=client,\n",
    "    collection=\"ForumPost\",\n",
    "    operations=[add_technical_complexity]\n",
    ")\n",
    "\n",
    "ta_response = ta.update_all()\n"
   ]
  },
  {
   "cell_type": "markdown",
   "id": "8a7405ce",
   "metadata": {},
   "source": [
    "### Check the status of the TA"
   ]
  },
  {
   "cell_type": "code",
   "execution_count": 10,
   "id": "38e5c0e6",
   "metadata": {},
   "outputs": [
    {
     "data": {
      "text/plain": [
       "{'workflow_id': 'TransformationWorkflow-41f9bd0027ca972a56b19b7813c401cb',\n",
       " 'status': {'batch_count': 3,\n",
       "  'end_time': None,\n",
       "  'start_time': '2025-06-09 18:45:10',\n",
       "  'state': 'running',\n",
       "  'total_duration': None,\n",
       "  'total_items': 596}}"
      ]
     },
     "execution_count": 10,
     "metadata": {},
     "output_type": "execute_result"
    }
   ],
   "source": [
    "ta.get_status(workflow_id=ta_response.workflow_id)"
   ]
  },
  {
   "cell_type": "markdown",
   "id": "2d3725ec",
   "metadata": {},
   "source": [
    "With a helper function (check status in a loop)"
   ]
  },
  {
   "cell_type": "code",
   "execution_count": 11,
   "id": "627a2780",
   "metadata": {},
   "outputs": [
    {
     "name": "stdout",
     "output_type": "stream",
     "text": [
      "Waiting... Elapsed time: 149.18 seconds\n",
      "Total time: 151.83 seconds\n",
      "{'workflow_id': 'TransformationWorkflow-41f9bd0027ca972a56b19b7813c401cb', 'status': {'batch_count': 3, 'end_time': '2025-06-09 18:47:42', 'start_time': '2025-06-09 18:45:10', 'state': 'completed', 'total_duration': 151.831738, 'total_items': 596}}\n"
     ]
    }
   ],
   "source": [
    "from helpers import get_ta_status\n",
    "\n",
    "get_ta_status(agent_instance=ta, workflow_id=ta_response.workflow_id)"
   ]
  },
  {
   "cell_type": "code",
   "execution_count": null,
   "id": "20879f51",
   "metadata": {},
   "outputs": [],
   "source": [
    "print(\"Currently existing properties:\\n\")\n",
    "for p in collection.config.get().properties:\n",
    "    print(f\"Property: {p.name}\")"
   ]
  },
  {
   "cell_type": "markdown",
   "id": "5e3d6548",
   "metadata": {},
   "source": [
    "In fact - you can define as many operations as you would like."
   ]
  },
  {
   "cell_type": "code",
   "execution_count": 12,
   "id": "260c116b",
   "metadata": {},
   "outputs": [],
   "source": [
    "from helpers import TECHNICAL_DOMAIN_CATEGORIES, ROOT_CAUSE_CATEGORIES, ACCESS_CONTEXT_CATEGORIES\n",
    "\n",
    "\n",
    "add_technical_domain = Operations.append_property(\n",
    "    property_name=\"technicalDomain\",\n",
    "    data_type=DataType.TEXT,\n",
    "    view_properties=[\"conversation\", \"title\"],\n",
    "    instruction=f\"\"\"\n",
    "    Identify the primary technical domain of the user's forum post query.\n",
    "    The answer must be one of the following:\n",
    "    {TECHNICAL_DOMAIN_CATEGORIES.keys()}\n",
    "\n",
    "    The definitions of the categories are as follows:\n",
    "    {TECHNICAL_DOMAIN_CATEGORIES}\n",
    "\n",
    "    Remember that the answer must be one of these categories:\n",
    "    {TECHNICAL_DOMAIN_CATEGORIES.keys()}\n",
    "    \"\"\",\n",
    ")\n",
    "\n",
    "add_root_cause_category = Operations.append_property(\n",
    "    property_name=\"rootCauseCategory\",\n",
    "    data_type=DataType.TEXT,\n",
    "    view_properties=[\"conversation\", \"title\"],\n",
    "    instruction=f\"\"\"\n",
    "    Based on the text, what was the fundamental issue behind the user's question? The answer must be one of the following categories:\n",
    "    {ROOT_CAUSE_CATEGORIES.keys()}\n",
    "\n",
    "    The definitions of the categories are as follows:\n",
    "    {ROOT_CAUSE_CATEGORIES}\n",
    "    For example, if the user was confused about how to use a specific feature of Weaviate, the answer should be \"conceptual_misunderstanding\".\n",
    "\n",
    "    Remember that the answer must be one of these categories:\n",
    "    {ROOT_CAUSE_CATEGORIES.keys()}\n",
    "    \"\"\",\n",
    ")\n",
    "\n",
    "add_access_context = Operations.append_property(\n",
    "    property_name=\"accessContext\",\n",
    "    data_type=DataType.TEXT,\n",
    "    view_properties=[\"conversation\", \"title\"],\n",
    "    instruction=f\"\"\"\n",
    "    Based on the text, how was the user trying to access Weaviate? The answer must be one of the following categories:\n",
    "\n",
    "    {ACCESS_CONTEXT_CATEGORIES.keys()}\n",
    "\n",
    "    The definitions of the categories are as follows:\n",
    "    {ACCESS_CONTEXT_CATEGORIES}\n",
    "    For example, if the user was using the Weaviate Python client library, the answer should be \"python_client\".\n",
    "\n",
    "    Remember that the answer must be one of these categories:\n",
    "    {ACCESS_CONTEXT_CATEGORIES.keys()}\n",
    "    \"\"\",\n",
    ")\n",
    "\n",
    "was_it_caused_by_outdated_stack = Operations.append_property(\n",
    "    property_name=\"causedByOutdatedStack\",\n",
    "    data_type=DataType.BOOL,\n",
    "    view_properties=[\"conversation\", \"title\"],\n",
    "    instruction=\"\"\"\n",
    "    Based on the text, was the user's question caused by an outdated version of Weaviate or its components, such as the client library being used?\n",
    "    \"\"\",\n",
    ")\n",
    "\n",
    "was_it_a_documentation_gap = Operations.append_property(\n",
    "    property_name=\"isDocumentationGap\",\n",
    "    data_type=DataType.BOOL,\n",
    "    view_properties=[\"conversation\", \"title\"],\n",
    "    instruction=\"\"\"\n",
    "    Based on the text, identify whether the user's question was caused by a lack of documentation or unclear instructions regarding Weaviate.\n",
    "\n",
    "    This does not include cases where the documentation exists, and the user did not find it, or did not read it.\n",
    "    This also does not include cases where the user was asking about a feature that is not supported by Weaviate,\n",
    "    or the user was asking about a feature that is not part of a first-party Weaviate product, such as a third-party integration or a custom implementation.\n",
    "    This also does not include cases where there was a bug in the code, or the user was using an outdated version of Weaviate or its components.\n",
    "\n",
    "    Only mark this as true if the user was asking about a feature or an aspect\n",
    "    that is not covered by the documentation, or the documentation was unclear or incorrect.\n",
    "    \"\"\",\n",
    ")\n",
    "\n",
    "create_summary = Operations.append_property(\n",
    "    property_name=\"summary\",\n",
    "    data_type=DataType.TEXT,\n",
    "    view_properties=[\"conversation\", \"title\"],\n",
    "    instruction=\"\"\"\n",
    "    Briefly summarize the user's question and the resolution provided (if any) in a few sentences.\n",
    "    \"\"\",\n",
    ")"
   ]
  },
  {
   "cell_type": "markdown",
   "id": "9ebe7433",
   "metadata": {},
   "source": [
    "Actually - you can define multiple operations to perform, and ask the TA to perform them all at once."
   ]
  },
  {
   "cell_type": "code",
   "execution_count": 13,
   "id": "b57438ef",
   "metadata": {},
   "outputs": [],
   "source": [
    "ta = TransformationAgent(\n",
    "    client=client,\n",
    "    collection=\"ForumPost\",\n",
    "    operations=[\n",
    "        add_technical_domain,\n",
    "        add_root_cause_category,\n",
    "        add_access_context,\n",
    "        was_it_caused_by_outdated_stack,\n",
    "        was_it_a_documentation_gap,\n",
    "        create_summary\n",
    "    ],\n",
    ")\n",
    "\n",
    "ta_response = ta.update_all()"
   ]
  },
  {
   "cell_type": "code",
   "execution_count": 14,
   "id": "4915e5b1",
   "metadata": {},
   "outputs": [
    {
     "name": "stdout",
     "output_type": "stream",
     "text": [
      "Waiting... Elapsed time: 9.56 seconds\n",
      "Waiting... Elapsed time: 20.01 seconds\n",
      "Waiting... Elapsed time: 30.50 seconds\n",
      "Waiting... Elapsed time: 40.97 seconds\n",
      "Waiting... Elapsed time: 51.46 seconds\n",
      "Waiting... Elapsed time: 62.13 seconds\n",
      "Waiting... Elapsed time: 72.60 seconds\n",
      "Waiting... Elapsed time: 83.06 seconds\n",
      "Waiting... Elapsed time: 93.50 seconds\n",
      "Waiting... Elapsed time: 104.25 seconds\n",
      "Waiting... Elapsed time: 114.73 seconds\n",
      "Waiting... Elapsed time: 125.35 seconds\n",
      "Waiting... Elapsed time: 135.86 seconds\n",
      "Waiting... Elapsed time: 146.35 seconds\n",
      "Waiting... Elapsed time: 156.83 seconds\n",
      "Waiting... Elapsed time: 167.47 seconds\n",
      "Waiting... Elapsed time: 177.96 seconds\n",
      "Waiting... Elapsed time: 188.44 seconds\n",
      "Waiting... Elapsed time: 198.91 seconds\n",
      "Total time: 206.99 seconds\n",
      "{'workflow_id': 'TransformationWorkflow-2df14f478751f7a464e1061231241931', 'status': {'batch_count': 3, 'end_time': '2025-06-09 18:51:59', 'start_time': '2025-06-09 18:48:32', 'state': 'completed', 'total_duration': 206.986495, 'total_items': 596}}\n"
     ]
    }
   ],
   "source": [
    "get_ta_status(agent_instance=ta, workflow_id=ta_response.workflow_id)"
   ]
  },
  {
   "cell_type": "code",
   "execution_count": 15,
   "id": "88473fc8",
   "metadata": {},
   "outputs": [
    {
     "name": "stdout",
     "output_type": "stream",
     "text": [
      "Currently existing properties:\n",
      "\n",
      "Property: user_id\n",
      "Property: conversation\n",
      "Property: conversation_full\n",
      "Property: date_created\n",
      "Property: has_accepted_answer\n",
      "Property: title\n",
      "Property: topic_id\n",
      "Property: technicalComplexity\n",
      "Property: technicalDomain\n",
      "Property: rootCauseCategory\n",
      "Property: accessContext\n",
      "Property: causedByOutdatedStack\n",
      "Property: isDocumentationGap\n",
      "Property: summary\n"
     ]
    }
   ],
   "source": [
    "print(\"Currently existing properties:\\n\")\n",
    "for p in collection.config.get().properties:\n",
    "    print(f\"Property: {p.name}\")"
   ]
  },
  {
   "cell_type": "markdown",
   "id": "591ea597",
   "metadata": {},
   "source": [
    "## Queries enabled by the new properties"
   ]
  },
  {
   "cell_type": "code",
   "execution_count": 16,
   "id": "04597370",
   "metadata": {},
   "outputs": [
    {
     "name": "stdout",
     "output_type": "stream",
     "text": [
      "\n",
      "Property: technicalComplexity\n",
      "Value: GroupedBy(prop='technicalComplexity', value=4.0) Count: 294\n",
      "Value: GroupedBy(prop='technicalComplexity', value=5.0) Count: 188\n",
      "Value: GroupedBy(prop='technicalComplexity', value=3.0) Count: 71\n",
      "Value: GroupedBy(prop='technicalComplexity', value=2.0) Count: 43\n",
      "\n",
      "Property: technicalDomain\n",
      "Value: GroupedBy(prop='technicalDomain', value='queries') Count: 173\n",
      "Value: GroupedBy(prop='technicalDomain', value='deployment') Count: 144\n",
      "Value: GroupedBy(prop='technicalDomain', value='integration') Count: 97\n",
      "Value: GroupedBy(prop='technicalDomain', value='ingestion') Count: 83\n",
      "Value: GroupedBy(prop='technicalDomain', value='server_setup') Count: 71\n",
      "Value: GroupedBy(prop='technicalDomain', value='others') Count: 12\n",
      "Value: GroupedBy(prop='technicalDomain', value='security') Count: 9\n",
      "Value: GroupedBy(prop='technicalDomain', value='configuration') Count: 1\n",
      "Value: GroupedBy(prop='technicalDomain', value='property_recommendation') Count: 1\n",
      "Value: GroupedBy(prop='technicalDomain', value='multi_tenancy') Count: 1\n",
      "Value: GroupedBy(prop='technicalDomain', value='integrate') Count: 1\n",
      "Value: GroupedBy(prop='technicalDomain', value='introduction') Count: 1\n",
      "Value: GroupedBy(prop='technicalDomain', value='multimodal search') Count: 1\n",
      "Value: GroupedBy(prop='technicalDomain', value='integrated_systems') Count: 1\n",
      "\n",
      "Property: rootCauseCategory\n",
      "Value: GroupedBy(prop='rootCauseCategory', value='bug_or_limit') Count: 252\n",
      "Value: GroupedBy(prop='rootCauseCategory', value='conceptual_misunderstanding') Count: 146\n",
      "Value: GroupedBy(prop='rootCauseCategory', value='incorrect_configuration') Count: 106\n",
      "Value: GroupedBy(prop='rootCauseCategory', value='performance') Count: 66\n",
      "Value: GroupedBy(prop='rootCauseCategory', value='incorrect_usage') Count: 14\n",
      "Value: GroupedBy(prop='rootCauseCategory', value='data_modeling') Count: 10\n",
      "Value: GroupedBy(prop='rootCauseCategory', value='other') Count: 2\n",
      "\n",
      "Property: accessContext\n",
      "Value: GroupedBy(prop='accessContext', value='python_client') Count: 241\n",
      "Value: GroupedBy(prop='accessContext', value='rest_api') Count: 192\n",
      "Value: GroupedBy(prop='accessContext', value='other') Count: 66\n",
      "Value: GroupedBy(prop='accessContext', value='llm_framework') Count: 38\n",
      "Value: GroupedBy(prop='accessContext', value='ts_client') Count: 19\n",
      "Value: GroupedBy(prop='accessContext', value='cloud_console') Count: 16\n",
      "Value: GroupedBy(prop='accessContext', value='go_client') Count: 10\n",
      "Value: GroupedBy(prop='accessContext', value='Using the official Weaviate Python client library') Count: 6\n",
      "Value: GroupedBy(prop='accessContext', value='docker') Count: 2\n",
      "Value: GroupedBy(prop='accessContext', value='community self-hosted version') Count: 1\n",
      "Value: GroupedBy(prop='accessContext', value='others') Count: 1\n",
      "Value: GroupedBy(prop='accessContext', value='self-hosted WeaviateDB running by docker compose') Count: 1\n",
      "Value: GroupedBy(prop='accessContext', value='using_the_official_weaviate_javascript/typescript_client_library') Count: 1\n",
      "Value: GroupedBy(prop='accessContext', value='weaviate.io') Count: 1\n",
      "Value: GroupedBy(prop='accessContext', value='Using the python_client') Count: 1\n",
      "\n",
      "Property: causedByOutdatedStack\n",
      "Value: GroupedBy(prop='causedByOutdatedStack', value=False) Count: 511\n",
      "Value: GroupedBy(prop='causedByOutdatedStack', value=True) Count: 85\n",
      "\n",
      "Property: isDocumentationGap\n",
      "Value: GroupedBy(prop='isDocumentationGap', value=False) Count: 557\n",
      "Value: GroupedBy(prop='isDocumentationGap', value=True) Count: 39\n"
     ]
    }
   ],
   "source": [
    "from weaviate.classes.aggregate import GroupByAggregate\n",
    "\n",
    "analysis_props = [\n",
    "    \"technicalComplexity\",\n",
    "    \"technicalDomain\",\n",
    "    \"rootCauseCategory\",\n",
    "    \"accessContext\",\n",
    "    \"causedByOutdatedStack\",\n",
    "    \"isDocumentationGap\"\n",
    "]\n",
    "\n",
    "for prop in analysis_props:\n",
    "\n",
    "    response = collection.aggregate.over_all(\n",
    "        group_by=GroupByAggregate(prop=prop)\n",
    "    )\n",
    "    print(f\"\\nProperty: {prop}\")\n",
    "    for group in response.groups:\n",
    "        print(f\"Value: {group.grouped_by} Count: {group.total_count}\")"
   ]
  },
  {
   "cell_type": "code",
   "execution_count": 17,
   "id": "9cdf524a",
   "metadata": {},
   "outputs": [
    {
     "name": "stdout",
     "output_type": "stream",
     "text": [
      "\n",
      "Property: technicalDomain\n",
      "Value: GroupedBy(prop='technicalDomain', value='queries') Count: 65\n",
      "Value: GroupedBy(prop='technicalDomain', value='integration') Count: 30\n",
      "Value: GroupedBy(prop='technicalDomain', value='ingestion') Count: 19\n",
      "Value: GroupedBy(prop='technicalDomain', value='deployment') Count: 18\n",
      "Value: GroupedBy(prop='technicalDomain', value='others') Count: 6\n",
      "Value: GroupedBy(prop='technicalDomain', value='server_setup') Count: 5\n",
      "Value: GroupedBy(prop='technicalDomain', value='security') Count: 1\n",
      "Value: GroupedBy(prop='technicalDomain', value='multimodal search') Count: 1\n",
      "Value: GroupedBy(prop='technicalDomain', value='property_recommendation') Count: 1\n"
     ]
    }
   ],
   "source": [
    "from weaviate.classes.query import Filter\n",
    "\n",
    "prop = \"technicalDomain\"\n",
    "response = collection.aggregate.over_all(\n",
    "    group_by=GroupByAggregate(prop=prop),\n",
    "    filters=Filter.by_property(name=\"rootCauseCategory\").equal(\"conceptual_misunderstanding\")\n",
    ")\n",
    "\n",
    "print(f\"\\nProperty: {prop}\")\n",
    "for group in response.groups:\n",
    "    print(f\"Value: {group.grouped_by} Count: {group.total_count}\")"
   ]
  },
  {
   "cell_type": "code",
   "execution_count": null,
   "id": "87b98319",
   "metadata": {},
   "outputs": [
    {
     "name": "stdout",
     "output_type": "stream",
     "text": [
      "\n",
      "# Common Points of Confusion in Weaviate Queries\n",
      "\n",
      "Based on an analysis of these 63 forum posts, here are the most common areas where users need better understanding about Weaviate queries:\n",
      "\n",
      "## 1. Hybrid Search Configuration and Scoring (12 posts)\n",
      "Users frequently struggle to understand how hybrid search combines vector and keyword searches, particularly:\n",
      "- How scoring works in hybrid search and why scores might seem inconsistent\n",
      "- How to adjust the alpha parameter to balance between vector and keyword components\n",
      "- When to use hybrid search vs. pure vector or keyword search\n",
      "- How to properly configure hybrid search with filters\n",
      "\n",
      "Examples include posts like \"Hybrid search in weaviate\", \"Hybrid similarity scoring is so weird\", and \"Hybrid search with embedding outside the database\".\n",
      "\n",
      "## 2. Property Configuration for Searching vs. Filtering (10 posts)\n",
      "Many users confuse when to use indexSearchable vs. indexFilterable, or struggle with:\n",
      "- How to properly configure text fields for search vs. non-text fields for filtering\n",
      "- Setting up properties for both vector search and filtering\n",
      "- Understanding which configuration to use for different data types (numbers, text, arrays)\n",
      "\n",
      "Posts such as \"Help with isIndexSearchable\", \"Problem with near_text Query and Metadata Filtering\", and \"Filter near_text search based on empty/non-empty text array\" highlight these issues.\n",
      "\n",
      "## 3. Named Vectors Implementation and Usage (9 posts)\n",
      "Users frequently need help with:\n",
      "- How to properly set up named vectors\n",
      "- How to query using named vectors\n",
      "- The limitations of named vectors (such as not being able to add them after collection creation)\n",
      "\n",
      "Examples include \"namedVectors with custom embedder?\", \"Help wrapping my head on two named vectors configs\", and \"Text search and multiple embeddings\".\n",
      "\n",
      "## 4. Understanding Distance Metrics vs. Scores (7 posts)\n",
      "A common source of confusion is:\n",
      "- Why near_text queries return distances instead of scores\n",
      "- How to interpret distance values and why they might not be what users expect\n",
      "- The difference between score, certainty, and distance in different query types\n",
      "\n",
      "Posts like \"Query score 0\", \"Why distance score not equal to 0\", and \"Is the cosine distance bound in the docs correct?\" demonstrate this confusion.\n",
      "\n",
      "## 5. Query Filtering with Different Operators (7 posts)\n",
      "Users struggle with:\n",
      "- How to properly construct filters with various operators\n",
      "- Understanding how ContainsAny, ContainsAll, and Like operators work\n",
      "- Combining multiple filters in a single query\n",
      "\n",
      "Examples include \"How does the filter ContainsAny and ContainsAll work?\", \"Anyone used many WHERE filters in DELETE\", and \"How to filter by properties and nearText in v4?\"\n",
      "\n",
      "These five areas represent the most common points of confusion for Weaviate users when constructing queries and could be prioritized for improved documentation or tutorials.\n"
     ]
    }
   ],
   "source": [
    "from weaviate.classes.generate import GenerativeConfig\n",
    "\n",
    "anthropic_key = os.getenv(\"ANTHROPIC_API_KEY\")\n",
    "\n",
    "client = weaviate.connect_to_weaviate_cloud(\n",
    "    cluster_url=weaviate_url,\n",
    "    auth_credentials=weaviate_api_key,\n",
    "    headers={\n",
    "        \"X-Anthropic-Api-Key\": anthropic_key,\n",
    "    }\n",
    ")\n",
    "\n",
    "collection = client.collections.get(\"ForumPost\")\n",
    "\n",
    "\n",
    "response = collection.generate.fetch_objects(\n",
    "    filters=(\n",
    "        Filter.by_property(name=\"rootCauseCategory\").equal(\"conceptual_misunderstanding\") &\n",
    "        Filter.by_property(name=\"technicalDomain\").equal(\"queries\")\n",
    "    ),\n",
    "    limit=100,\n",
    "    generative_provider=GenerativeConfig.anthropic(model=\"claude-3-7-sonnet-latest\"),\n",
    "    grouped_task=\"\"\"\n",
    "    From these Weaviate Forum post conversations, identify 3-5 most common things\n",
    "    that we can help users to understand better about Weaviate queries.\n",
    "    If possible, also provide a count of each type in the sample.\n",
    "    \"\"\",\n",
    "    grouped_properties=[\"summary\", \"title\"]\n",
    ")\n",
    "\n",
    "print(f\"\\n{response.generative.text}\")"
   ]
  },
  {
   "cell_type": "code",
   "execution_count": 19,
   "id": "156c054a",
   "metadata": {},
   "outputs": [],
   "source": [
    "client.close()"
   ]
  }
 ],
 "metadata": {
  "kernelspec": {
   "display_name": ".venv",
   "language": "python",
   "name": "python3"
  },
  "language_info": {
   "codemirror_mode": {
    "name": "ipython",
    "version": 3
   },
   "file_extension": ".py",
   "mimetype": "text/x-python",
   "name": "python",
   "nbconvert_exporter": "python",
   "pygments_lexer": "ipython3",
   "version": "3.12.4"
  }
 },
 "nbformat": 4,
 "nbformat_minor": 5
}
