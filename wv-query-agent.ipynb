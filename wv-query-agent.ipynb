{
 "cells": [
  {
   "cell_type": "markdown",
   "id": "fa90fd36",
   "metadata": {},
   "source": [
    "# Query Agent Demo\n",
    "\n",
    "## Connect to the Weaviate Cloud instance\n",
    "\n",
    "> Reminder: Weaviate Agents are only available for Weaviate Cloud instances.\n",
    "\n",
    "Connect to your Weaviate instance, using credentials from the Weaviate Cloud console. Here, they are loaded from the `.env` file."
   ]
  },
  {
   "cell_type": "code",
   "execution_count": null,
   "id": "9aa93c91",
   "metadata": {},
   "outputs": [],
   "source": [
    "from dotenv import load_dotenv\n",
    "import weaviate\n",
    "import os\n",
    "\n",
    "load_dotenv()\n",
    "\n",
    "weaviate_url = os.getenv(\"WEAVIATE_URL\")\n",
    "weaviate_api_key = os.getenv(\"WEAVIATE_API_KEY\")\n",
    "\n",
    "client = weaviate.connect_to_weaviate_cloud(\n",
    "    cluster_url=weaviate_url,\n",
    "    auth_credentials=weaviate_api_key,\n",
    ")\n",
    "\n",
    "assert client.is_ready()"
   ]
  },
  {
   "cell_type": "markdown",
   "id": "0e1ae1ba",
   "metadata": {},
   "source": [
    "## Add data\n",
    "\n",
    "We add two datasets here, one with books and another with movies. The datasets are loaded from the Hugging Face Hub, and they are pre-vectorized using `Snowflake/snowflake-arctic-embed-l-v2.0`. "
   ]
  },
  {
   "cell_type": "markdown",
   "id": "af2cb31c",
   "metadata": {},
   "source": [
    "### Load data & inspect it briefly"
   ]
  },
  {
   "cell_type": "code",
   "execution_count": null,
   "id": "add3aee8",
   "metadata": {},
   "outputs": [],
   "source": [
    "from datasets import load_dataset\n",
    "\n",
    "movies_dataset = load_dataset(\"jphwang/weaviate-demos\", \"movies\", split=\"train\", streaming=True)\n",
    "books_dataset = load_dataset(\"weaviate/agents\", \"query-agent-books\", split=\"train\", streaming=True)"
   ]
  },
  {
   "cell_type": "code",
   "execution_count": null,
   "id": "8fe3f297",
   "metadata": {},
   "outputs": [],
   "source": [
    "for d in [movies_dataset, books_dataset]:\n",
    "    print(f\"Dataset: {d.config_name}\")\n",
    "    counter = 0\n",
    "    for o in d:\n",
    "        if counter >= 5:\n",
    "            break\n",
    "        print(o)\n",
    "        counter += 1"
   ]
  },
  {
   "cell_type": "markdown",
   "id": "cdffb232",
   "metadata": {},
   "source": [
    "### Prepare the Collections\n",
    "\n",
    "Here we create collections and add the objects. \n",
    "\n",
    "> ❗️ The `QueryAgent` uses the descriptions of collections and properties to decide which ones to use when solving queries, and to access more information about properties. You can experiment with changing these descriptions, providing more detail, and more. It's good practice to provide property descriptions too."
   ]
  },
  {
   "cell_type": "code",
   "execution_count": null,
   "id": "22613e18",
   "metadata": {},
   "outputs": [],
   "source": [
    "# ONLY run this if you want to delete the existing collection & data\n",
    "client.collections.delete([\"Movie\", \"Book\"])"
   ]
  },
  {
   "cell_type": "code",
   "execution_count": null,
   "id": "a66ae0bf",
   "metadata": {},
   "outputs": [],
   "source": [
    "from weaviate.classes.config import Configure, Property, DataType\n",
    "\n",
    "if not client.collections.exists(\"Movie\"):\n",
    "    client.collections.create(\n",
    "        \"Movie\",\n",
    "        description=\"A dataset that lists movies, their ratings, original language etc..\",\n",
    "        properties=[\n",
    "            Property(\n",
    "                name=\"title\",\n",
    "                data_type=DataType.TEXT,\n",
    "                description=\"The title of the movie\",\n",
    "            ),\n",
    "            Property(\n",
    "                name=\"release_year\",\n",
    "                data_type=DataType.INT,\n",
    "                description=\"The release year of the movie\",\n",
    "            ),\n",
    "            Property(\n",
    "                name=\"overview\",\n",
    "                data_type=DataType.TEXT,\n",
    "                description=\"Short description of the movie\",\n",
    "            ),\n",
    "            Property(\n",
    "                name=\"genres\",\n",
    "                data_type=DataType.TEXT_ARRAY,\n",
    "                description=\"The genres of the movie, in an array format\",\n",
    "            ),\n",
    "            Property(\n",
    "                name=\"vote_average\",\n",
    "                data_type=DataType.NUMBER,\n",
    "                description=\"The average user rating of the movie; range is 0-10\",\n",
    "            ),\n",
    "            Property(\n",
    "                name=\"vote_count\",\n",
    "                data_type=DataType.INT,\n",
    "                description=\"The number of user votes for the movie\",\n",
    "            ),\n",
    "            Property(\n",
    "                name=\"popularity\",\n",
    "                data_type=DataType.NUMBER,\n",
    "                description=\"Calculated popularity of the movie by weighing multiple factors; range is 0-100\",\n",
    "            ),\n",
    "            Property(\n",
    "                name=\"poster_url\",\n",
    "                data_type=DataType.TEXT,\n",
    "                description=\"A TMDB URL of the movie poster image\",\n",
    "            ),\n",
    "            Property(\n",
    "                name=\"original_language\",\n",
    "                data_type=DataType.TEXT,\n",
    "                description=\"A two-letter code (e.g. 'en') representing the original language of the movie\",\n",
    "            ),\n",
    "        ],\n",
    "        vectorizer_config=[\n",
    "            Configure.NamedVectors.text2vec_weaviate(\n",
    "                name=\"default\",\n",
    "                source_properties=[\"title\", \"description\"],\n",
    "                model=\"Snowflake/snowflake-arctic-embed-l-v2.0\"\n",
    "            )\n",
    "        ],\n",
    "    )"
   ]
  },
  {
   "cell_type": "markdown",
   "id": "70f91cd4",
   "metadata": {},
   "source": [
    "Now, create a collection for books - with \"Book\" as the collection name, \"title\", \"author\", and \"description\" as text properties, and \"genres\" as a text array property.\n",
    "\n",
    "Use the same vectorizer model as above, vectorizing the \"title\" and \"description\" properties."
   ]
  },
  {
   "cell_type": "code",
   "execution_count": null,
   "id": "5343a5ed",
   "metadata": {},
   "outputs": [],
   "source": [
    "if not client.collections.exists(\"Book\"):\n",
    "    client.collections.create(\n",
    "        \"Book\",\n",
    "        description=\"A dataset that lists books, their author, description and genres\",\n",
    "        properties=[\n",
    "            # Create properties for 'title', 'author', 'description' (use text types), and 'genres' (text array)\n",
    "            # ADD YOUR CODE HERE\n",
    "        ],\n",
    "        vectorizer_config=[\n",
    "            Configure.NamedVectors.text2vec_weaviate(\n",
    "                name=\"default\",\n",
    "                source_properties=[\"title\", \"description\"],\n",
    "                model=\"Snowflake/snowflake-arctic-embed-l-v2.0\"\n",
    "            ),\n",
    "        ],\n",
    "    )\n"
   ]
  },
  {
   "cell_type": "markdown",
   "id": "778eb3da",
   "metadata": {},
   "source": [
    "Import data"
   ]
  },
  {
   "cell_type": "code",
   "execution_count": null,
   "id": "037df8e9",
   "metadata": {},
   "outputs": [],
   "source": [
    "from tqdm import tqdm\n",
    "from weaviate.util import generate_uuid5\n",
    "\n",
    "movies = client.collections.get(\"Movie\")\n",
    "\n",
    "with movies.batch.fixed_size(batch_size=100) as batch:\n",
    "    for item in tqdm(movies_dataset):\n",
    "        obj = item[\"properties\"]\n",
    "\n",
    "        # Convert release_date to release_year\n",
    "        obj[\"release_year\"] = obj[\"release_date\"].year\n",
    "        obj.pop(\"release_date\")\n",
    "\n",
    "        # Add object to batch for import\n",
    "        batch.add_object(\n",
    "            properties=item[\"properties\"],\n",
    "            uuid=generate_uuid5(item[\"properties\"][\"title\"]),\n",
    "            vector={\"default\": item[\"vector\"]},\n",
    "        )\n",
    "\n",
    "# Check for any failed objects during import\n",
    "if movies.batch.failed_objects:\n",
    "    print(f\"{len(movies.batch.failed_objects)} objects failed during import:\")\n",
    "    for failed in movies.batch.failed_objects[:3]:\n",
    "        print(failed.message)"
   ]
  },
  {
   "cell_type": "markdown",
   "id": "1bd05557",
   "metadata": {},
   "source": [
    "Now, try importing the books dataset into the \"Book\" collection. You can use the same pattern as above. Here, you shouldn't need to convert any data types, as all properties are text or text array properties."
   ]
  },
  {
   "cell_type": "code",
   "execution_count": null,
   "id": "43ddd7e6",
   "metadata": {},
   "outputs": [],
   "source": [
    "\n",
    "from tqdm import tqdm\n",
    "from weaviate.util import generate_uuid5\n",
    "\n",
    "books = client.collections.get(\"Book\")\n",
    "\n",
    "# Batch import the books data\n",
    "# ADD YOUR CODE HERE\n",
    "\n",
    "if books.batch.failed_objects:\n",
    "    print(f\"{len(books.batch.failed_objects)} objects failed during import:\")\n",
    "    for failed in books.batch.failed_objects[:3]:\n",
    "        print(failed.message)"
   ]
  },
  {
   "cell_type": "markdown",
   "id": "6e2c129b",
   "metadata": {},
   "source": [
    "## Use Weaviate Query Agent"
   ]
  },
  {
   "cell_type": "markdown",
   "id": "3eb3aa30",
   "metadata": {},
   "source": [
    "### Set up the query agent"
   ]
  },
  {
   "cell_type": "code",
   "execution_count": null,
   "id": "8f3965d5",
   "metadata": {},
   "outputs": [],
   "source": [
    "from weaviate.agents.query import QueryAgent\n",
    "from weaviate.agents.classes import QueryAgentCollectionConfig\n",
    "\n",
    "agent = QueryAgent(client=client, collections=[\n",
    "    QueryAgentCollectionConfig(name=\"Movie\", target_vector=\"default\"),\n",
    "    QueryAgentCollectionConfig(name=\"Book\", target_vector=\"default\"),\n",
    "])"
   ]
  },
  {
   "cell_type": "markdown",
   "id": "dcad39f7",
   "metadata": {},
   "source": [
    "The `QueryAgent` will determine wither a given query is a regular search query (vector search), whether it requires aggregations, or both."
   ]
  },
  {
   "cell_type": "code",
   "execution_count": null,
   "id": "6934792e",
   "metadata": {},
   "outputs": [],
   "source": [
    "response = agent.run(\"What are some good fantasy films that involve elves?\")"
   ]
  },
  {
   "cell_type": "code",
   "execution_count": null,
   "id": "dc17f2c5",
   "metadata": {},
   "outputs": [],
   "source": [
    "print(response.final_answer)"
   ]
  },
  {
   "cell_type": "code",
   "execution_count": null,
   "id": "953bfd69",
   "metadata": {},
   "outputs": [],
   "source": [
    "response.display()"
   ]
  },
  {
   "cell_type": "markdown",
   "id": "02b2d2dd",
   "metadata": {},
   "source": [
    "You can ask follow-up question as shown below, by providing the previous response as `context`."
   ]
  },
  {
   "cell_type": "code",
   "execution_count": null,
   "id": "7b5b6452",
   "metadata": {},
   "outputs": [],
   "source": [
    "new_response = agent.run(\n",
    "    \"And what are some books with a similar vibe to these films?\",\n",
    "    context=response,\n",
    ")"
   ]
  },
  {
   "cell_type": "markdown",
   "id": "f5ffa2d2",
   "metadata": {},
   "source": [
    "Print the final answer to the query:"
   ]
  },
  {
   "cell_type": "code",
   "execution_count": null,
   "id": "4cc593a0",
   "metadata": {},
   "outputs": [],
   "source": [
    "# ADD YOUR CODE HERE"
   ]
  },
  {
   "cell_type": "markdown",
   "id": "a5fe6c67",
   "metadata": {},
   "source": [
    "Display the entire response, as shown before"
   ]
  },
  {
   "cell_type": "code",
   "execution_count": null,
   "id": "fb45e522",
   "metadata": {},
   "outputs": [],
   "source": [
    "# ADD YOUR CODE HERE"
   ]
  },
  {
   "cell_type": "markdown",
   "id": "e34c8450",
   "metadata": {},
   "source": [
    "Try your own query here, based on the example above."
   ]
  },
  {
   "cell_type": "code",
   "execution_count": null,
   "id": "bd4c8c1c",
   "metadata": {},
   "outputs": [],
   "source": [
    "# ADD YOUR CODE HERE"
   ]
  },
  {
   "cell_type": "markdown",
   "id": "4f586195",
   "metadata": {},
   "source": [
    "The agent will select the appropriate collection and query type, based on the user's query and the available data."
   ]
  },
  {
   "cell_type": "code",
   "execution_count": null,
   "id": "32e477f9",
   "metadata": {},
   "outputs": [],
   "source": [
    "response = agent.run(\"Which author has the most books listed in our collection?\")\n",
    "print(response.final_answer)"
   ]
  },
  {
   "cell_type": "code",
   "execution_count": null,
   "id": "6590b407",
   "metadata": {},
   "outputs": [],
   "source": [
    "response = agent.run(\"What genres are the most common for this author?\", context=response)\n",
    "print(response.final_answer)"
   ]
  },
  {
   "cell_type": "code",
   "execution_count": null,
   "id": "bf4b7bab",
   "metadata": {},
   "outputs": [],
   "source": [
    "response.display()"
   ]
  },
  {
   "cell_type": "markdown",
   "id": "60e676a1",
   "metadata": {},
   "source": [
    "#### Considerations - data structure & query limitations\n",
    "\n",
    "Note that the agent can only form queries based on the data structure and the collections available. Consider whether the following is easily executable by the agent."
   ]
  },
  {
   "cell_type": "code",
   "execution_count": null,
   "id": "5bc89397",
   "metadata": {},
   "outputs": [],
   "source": [
    "response = agent.run(\"What movies do we have in the collection that are based on this author's books?\", context=response)\n",
    "print(response.final_answer)"
   ]
  },
  {
   "cell_type": "code",
   "execution_count": null,
   "id": "adad08ed",
   "metadata": {},
   "outputs": [],
   "source": [
    "response.display()"
   ]
  },
  {
   "cell_type": "markdown",
   "id": "25c776f1",
   "metadata": {},
   "source": [
    "This above query may be a little tricky, as the current data doesn't provide an easy way to evaluate whether a movie is based on a book, and if so, who the original author is. "
   ]
  },
  {
   "cell_type": "markdown",
   "id": "4023043b",
   "metadata": {},
   "source": [
    "### Search multiple collections at once"
   ]
  },
  {
   "cell_type": "code",
   "execution_count": null,
   "id": "68454174",
   "metadata": {},
   "outputs": [],
   "source": [
    "multi_collection_query = \"\"\"\n",
    "I'm interested in movies and book that are based on European historical events, modern or ancient.\n",
    "Can you recommend any good ones?\n",
    "\"\"\""
   ]
  },
  {
   "cell_type": "markdown",
   "id": "adac18ca",
   "metadata": {},
   "source": [
    "Run the above query:"
   ]
  },
  {
   "cell_type": "code",
   "execution_count": null,
   "id": "248c906b",
   "metadata": {},
   "outputs": [],
   "source": [
    "# ADD YOUR CODE HERE"
   ]
  },
  {
   "cell_type": "markdown",
   "id": "8d16c349",
   "metadata": {},
   "source": [
    "Display the entire response"
   ]
  },
  {
   "cell_type": "code",
   "execution_count": null,
   "id": "1d47b34c",
   "metadata": {},
   "outputs": [],
   "source": [
    "# ADD YOUR CODE HERE"
   ]
  },
  {
   "cell_type": "markdown",
   "id": "0c48707f",
   "metadata": {},
   "source": [
    "### Streaming output"
   ]
  },
  {
   "cell_type": "markdown",
   "id": "177cefd1",
   "metadata": {},
   "source": [
    "Streaming output is available for the `QueryAgent`. You can use it to get partial results as they are generated, rather than waiting for the entire response to be ready.\n",
    "\n",
    "These intermediate results can provide a more interactive experience for the user, as they can see the progress in real-time, and get a sense of how the agent is approaching the query."
   ]
  },
  {
   "cell_type": "code",
   "execution_count": null,
   "id": "1535a176",
   "metadata": {},
   "outputs": [],
   "source": [
    "from weaviate.agents.classes import ProgressMessage, StreamedTokens\n",
    "\n",
    "for output in agent.stream(\n",
    "    \"What are some good fantasy films that involve elves?\",\n",
    "    # Setting this to false will skip ProgressMessages, and only stream\n",
    "    # the StreamedTokens / the final QueryAgentResponse\n",
    "    include_progress=True  # Default is True\n",
    "):\n",
    "    if isinstance(output, ProgressMessage):\n",
    "        # The message is a human-readable string, structured info available in output.details\n",
    "        print(output.message)\n",
    "    elif isinstance(output, StreamedTokens):\n",
    "        # The delta is a string containing the next chunk of the final answer\n",
    "        print(output.delta, end='', flush=True)\n",
    "    else:\n",
    "        # This is the final response, as returned by QueryAgent.run()\n",
    "        output.display()"
   ]
  },
  {
   "cell_type": "markdown",
   "id": "3d8e2bb4",
   "metadata": {},
   "source": [
    "Can you find all Harry Potter books in our database? Try it, with streaming output enabled."
   ]
  },
  {
   "cell_type": "code",
   "execution_count": null,
   "id": "57bd43ce",
   "metadata": {},
   "outputs": [],
   "source": [
    "from weaviate.agents.classes import ProgressMessage, StreamedTokens\n",
    "\n",
    "# ADD YOUR CODE HERE"
   ]
  },
  {
   "cell_type": "markdown",
   "id": "7ff610af",
   "metadata": {},
   "source": [
    "Remember to close the client and clean up the connections :) "
   ]
  },
  {
   "cell_type": "code",
   "execution_count": null,
   "id": "c0fce047",
   "metadata": {},
   "outputs": [],
   "source": [
    "client.close()"
   ]
  }
 ],
 "metadata": {
  "kernelspec": {
   "display_name": "weaviate-agents-workshop",
   "language": "python",
   "name": "python3"
  },
  "language_info": {
   "codemirror_mode": {
    "name": "ipython",
    "version": 3
   },
   "file_extension": ".py",
   "mimetype": "text/x-python",
   "name": "python",
   "nbconvert_exporter": "python",
   "pygments_lexer": "ipython3",
   "version": "3.10.16"
  }
 },
 "nbformat": 4,
 "nbformat_minor": 5
}
