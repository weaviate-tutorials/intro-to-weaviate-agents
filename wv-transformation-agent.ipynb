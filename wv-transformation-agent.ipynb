{
 "cells": [
  {
   "cell_type": "markdown",
   "id": "cd73df1c",
   "metadata": {},
   "source": [
    "# Transformation Agent Demo\n",
    "\n",
    "## Connect to the Weaviate Cloud instance\n",
    "\n",
    "> Reminder: Weaviate Agents are only available for Weaviate Cloud instances.\n",
    "\n",
    "Connect to your Weaviate instance, using credentials from the Weaviate Cloud console. Here, they are loaded from the `.env` file."
   ]
  },
  {
   "cell_type": "code",
   "execution_count": null,
   "id": "a202cb87",
   "metadata": {},
   "outputs": [],
   "source": [
    "from dotenv import load_dotenv\n",
    "import weaviate\n",
    "import os\n",
    "\n",
    "load_dotenv()\n",
    "\n",
    "weaviate_url = os.getenv(\"WEAVIATE_URL\")\n",
    "weaviate_api_key = os.getenv(\"WEAVIATE_API_KEY\")\n",
    "\n",
    "client = weaviate.connect_to_weaviate_cloud(\n",
    "    cluster_url=weaviate_url,\n",
    "    auth_credentials=weaviate_api_key,\n",
    ")\n",
    "\n",
    "assert client.is_ready()"
   ]
  },
  {
   "cell_type": "markdown",
   "id": "803d1edf",
   "metadata": {},
   "source": [
    "## Add data"
   ]
  },
  {
   "cell_type": "code",
   "execution_count": null,
   "id": "5c507a6f",
   "metadata": {},
   "outputs": [],
   "source": [
    "import json\n",
    "\n",
    "with open(\"data/simplified_posts.json\", \"r\") as f:\n",
    "    data = json.load(f)"
   ]
  },
  {
   "cell_type": "code",
   "execution_count": null,
   "id": "6dcb180f",
   "metadata": {},
   "outputs": [],
   "source": [
    "client.collections.delete(\"ForumPost\")"
   ]
  },
  {
   "cell_type": "code",
   "execution_count": null,
   "id": "f777f671",
   "metadata": {},
   "outputs": [],
   "source": [
    "from weaviate.classes.config import Configure, DataType, Property\n",
    "\n",
    "client.collections.create(\n",
    "    \"ForumPost\",\n",
    "    description=\"This collection contains conversations from the Weaviate Forum.\",\n",
    "    properties=[\n",
    "        Property(\n",
    "            name=\"user_id\",\n",
    "            description=\"Unique identifier for the user creating the thread.\",\n",
    "            data_type=DataType.INT,\n",
    "        ),\n",
    "        Property(\n",
    "            name=\"conversation\",\n",
    "            description=\"Text of the entire forum conversation thread, truncated to 20,000 characters maximum for context limit.\",\n",
    "            data_type=DataType.TEXT,\n",
    "        ),\n",
    "        Property(\n",
    "            name=\"conversation_full\",\n",
    "            description=\"Full text of the entire forum conversation thread.\",\n",
    "            data_type=DataType.TEXT,\n",
    "        ),\n",
    "        Property(\n",
    "            name=\"date_created\",\n",
    "            description=\"Date and time when the thread was first created.\",\n",
    "            data_type=DataType.DATE,\n",
    "        ),\n",
    "        Property(\n",
    "            name=\"has_accepted_answer\",\n",
    "            description=\"Whether the thread has an accepted answer.\",\n",
    "            data_type=DataType.BOOL,\n",
    "        ),\n",
    "        Property(\n",
    "            name=\"title\",\n",
    "            description=\"Title text of the forum thread.\",\n",
    "            data_type=DataType.TEXT,\n",
    "        ),\n",
    "        Property(\n",
    "            name=\"topic_id\",\n",
    "            description=\"Unique identifier for the topic of the thread.\",\n",
    "            data_type=DataType.INT,\n",
    "        ),\n",
    "    ],\n",
    "    vectorizer_config=[\n",
    "        Configure.NamedVectors.text2vec_weaviate(\n",
    "            name=\"default\", source_properties=[\"conversation_full\", \"title\"]\n",
    "        ),\n",
    "    ],\n",
    "    inverted_index_config=Configure.inverted_index(\n",
    "        index_null_state=True,\n",
    "        index_timestamps=True,\n",
    "    ),\n",
    ")\n"
   ]
  },
  {
   "cell_type": "code",
   "execution_count": null,
   "id": "5c98978a",
   "metadata": {},
   "outputs": [],
   "source": [
    "from tqdm import tqdm\n",
    "from datetime import datetime, timezone\n",
    "from weaviate.util import generate_uuid5\n",
    "\n",
    "posts = client.collections.get(\"ForumPost\")\n",
    "\n",
    "with posts.batch.fixed_size(200) as batch:\n",
    "    for i, row in tqdm(enumerate(data)):\n",
    "        row[\"date_created\"] = datetime.fromisoformat(row[\"date_created\"]).replace(\n",
    "            tzinfo=timezone.utc\n",
    "        )\n",
    "        if len(row[\"conversation\"]) > 20000:\n",
    "            row[\"conversation\"] = (\n",
    "                row[\"conversation\"][:10000] + \"...\" + row[\"conversation\"][-10000:]\n",
    "            )\n",
    "        row[\"conversation_full\"] = row[\"conversation\"]\n",
    "        batch.add_object(properties=row, uuid=generate_uuid5(row[\"topic_id\"]))\n",
    "\n",
    "if posts.batch.failed_objects:\n",
    "    for obj in posts.batch.failed_objects[:5]:\n",
    "        print(f\"Failed to add object {obj['row_id']}: {obj.message}\")"
   ]
  },
  {
   "cell_type": "code",
   "execution_count": null,
   "id": "5aab3475",
   "metadata": {},
   "outputs": [],
   "source": [
    "print(len(posts))"
   ]
  },
  {
   "cell_type": "code",
   "execution_count": null,
   "id": "d89cc58e",
   "metadata": {},
   "outputs": [],
   "source": [
    "collection = client.collections.get(\"ForumPost\")\n",
    "\n",
    "print(\"Currently existing properties:\\n\")\n",
    "for p in collection.config.get().properties:\n",
    "    print(f\"Property: {p.name}\")"
   ]
  },
  {
   "cell_type": "markdown",
   "id": "9d5675ef",
   "metadata": {},
   "source": [
    "## How to use the TA\n",
    "\n",
    "First, define the operation for the TA to perform:"
   ]
  },
  {
   "cell_type": "code",
   "execution_count": null,
   "id": "45206bba",
   "metadata": {},
   "outputs": [],
   "source": [
    "from weaviate.classes.config import DataType\n",
    "from weaviate.agents.classes import Operations\n",
    "\n",
    "add_technical_complexity = Operations.append_property(\n",
    "    # Set the output property name (property_name) and data type (data_type), and the properties to base this on (view_properties)\n",
    "    # Here let's call it \"technicalComplexity\", output an INT and base it on \"conversation\"\n",
    "    # ADD YOUR CODE HERE\n",
    "    # We also need the instruction (provided for you here)\n",
    "    instruction=\"\"\"\n",
    "    Rate the technical complexity of the user's forum post query\n",
    "    on a scale from 1 to 5, where 1 is very simple and 5 is very complex.\n",
    "    \"\"\",\n",
    ")"
   ]
  },
  {
   "cell_type": "markdown",
   "id": "1e36192c",
   "metadata": {},
   "source": [
    "### Run the TA\n",
    "\n",
    "The TA is run in an asynchronous way, so you can run it in the background and check the status later."
   ]
  },
  {
   "cell_type": "code",
   "execution_count": null,
   "id": "85c62a80",
   "metadata": {},
   "outputs": [],
   "source": [
    "from weaviate.agents.transformation import TransformationAgent\n",
    "\n",
    "ta = TransformationAgent(\n",
    "    # Provide the client, collection to modify and the operations to perform\n",
    "    # The operations here will be [<YOUR DEFINED OPERATION ABOVE>]\n",
    "    # ADD YOUR CODE HERE\n",
    ")\n",
    "\n",
    "ta_response = ta.update_all()\n"
   ]
  },
  {
   "cell_type": "markdown",
   "id": "8a7405ce",
   "metadata": {},
   "source": [
    "### Check the status of the TA"
   ]
  },
  {
   "cell_type": "code",
   "execution_count": null,
   "id": "38e5c0e6",
   "metadata": {},
   "outputs": [],
   "source": [
    "ta.get_status(\n",
    "    # Provide the workflow ID - it can be found in the returned response\n",
    "    # ADD YOUR CODE HERE\n",
    ")"
   ]
  },
  {
   "cell_type": "markdown",
   "id": "2d3725ec",
   "metadata": {},
   "source": [
    "With a helper function (check status in a loop)"
   ]
  },
  {
   "cell_type": "code",
   "execution_count": null,
   "id": "627a2780",
   "metadata": {},
   "outputs": [],
   "source": [
    "from helpers import get_ta_status\n",
    "\n",
    "get_ta_status(agent_instance=ta, workflow_id=ta_response.workflow_id)"
   ]
  },
  {
   "cell_type": "code",
   "execution_count": null,
   "id": "20879f51",
   "metadata": {},
   "outputs": [],
   "source": [
    "print(\"Currently existing properties:\\n\")\n",
    "for p in collection.config.get().properties:\n",
    "    print(f\"Property: {p.name}\")"
   ]
  },
  {
   "cell_type": "markdown",
   "id": "5e3d6548",
   "metadata": {},
   "source": [
    "In fact - you can define as many operations as you would like."
   ]
  },
  {
   "cell_type": "code",
   "execution_count": null,
   "id": "260c116b",
   "metadata": {},
   "outputs": [],
   "source": [
    "from helpers import TECHNICAL_DOMAIN_CATEGORIES, ROOT_CAUSE_CATEGORIES, ACCESS_CONTEXT_CATEGORIES\n",
    "\n",
    "\n",
    "# Provided example for you - feel free to inspect & investigate further\n",
    "add_technical_domain = Operations.append_property(\n",
    "    property_name=\"technicalDomain\",\n",
    "    data_type=DataType.TEXT,\n",
    "    view_properties=[\"conversation\", \"title\"],\n",
    "    instruction=f\"\"\"\n",
    "    Identify the primary technical domain of the user's forum post query.\n",
    "    The answer must be one of the following:\n",
    "    {TECHNICAL_DOMAIN_CATEGORIES.keys()}\n",
    "\n",
    "    The definitions of the categories are as follows:\n",
    "    {TECHNICAL_DOMAIN_CATEGORIES}\n",
    "\n",
    "    Remember that the answer must be one of these categories:\n",
    "    {TECHNICAL_DOMAIN_CATEGORIES.keys()}\n",
    "    \"\"\",\n",
    ")\n",
    "\n",
    "add_root_cause_category = Operations.append_property(\n",
    "    property_name=\"rootCauseCategory\",\n",
    "    data_type=DataType.TEXT,\n",
    "    view_properties=[\"conversation\", \"title\"],\n",
    "    instruction=f\"\"\"\n",
    "    Based on the text, what was the fundamental issue behind the user's question? The answer must be one of the following categories:\n",
    "    {ROOT_CAUSE_CATEGORIES.keys()}\n",
    "\n",
    "    The definitions of the categories are as follows:\n",
    "    {ROOT_CAUSE_CATEGORIES}\n",
    "    For example, if the user was confused about how to use a specific feature of Weaviate, the answer should be \"conceptual_misunderstanding\".\n",
    "\n",
    "    Remember that the answer must be one of these categories:\n",
    "    {ROOT_CAUSE_CATEGORIES.keys()}\n",
    "    \"\"\",\n",
    ")\n",
    "\n",
    "add_access_context = Operations.append_property(\n",
    "    property_name=\"accessContext\",\n",
    "    data_type=DataType.TEXT,\n",
    "    view_properties=[\"conversation\", \"title\"],\n",
    "    instruction=f\"\"\"\n",
    "    Based on the text, how was the user trying to access Weaviate? The answer must be one of the following categories:\n",
    "\n",
    "    {ACCESS_CONTEXT_CATEGORIES.keys()}\n",
    "\n",
    "    The definitions of the categories are as follows:\n",
    "    {ACCESS_CONTEXT_CATEGORIES}\n",
    "    For example, if the user was using the Weaviate Python client library, the answer should be \"python_client\".\n",
    "\n",
    "    Remember that the answer must be one of these categories:\n",
    "    {ACCESS_CONTEXT_CATEGORIES.keys()}\n",
    "    \"\"\",\n",
    ")\n",
    "\n",
    "was_it_caused_by_outdated_stack = Operations.append_property(\n",
    "    property_name=\"causedByOutdatedStack\",\n",
    "    data_type=DataType.BOOL,\n",
    "    view_properties=[\"conversation\", \"title\"],\n",
    "    instruction=\"\"\"\n",
    "    Based on the text, was the user's question caused by an outdated version of Weaviate or its components, such as the client library being used?\n",
    "    \"\"\",\n",
    ")\n",
    "\n",
    "was_it_a_documentation_gap = Operations.append_property(\n",
    "    property_name=\"isDocumentationGap\",\n",
    "    data_type=DataType.BOOL,\n",
    "    view_properties=[\"conversation\", \"title\"],\n",
    "    instruction=\"\"\"\n",
    "    Based on the text, identify whether the user's question was caused by a lack of documentation or unclear instructions regarding Weaviate.\n",
    "\n",
    "    This does not include cases where the documentation exists, and the user did not find it, or did not read it.\n",
    "    This also does not include cases where the user was asking about a feature that is not supported by Weaviate,\n",
    "    or the user was asking about a feature that is not part of a first-party Weaviate product, such as a third-party integration or a custom implementation.\n",
    "    This also does not include cases where there was a bug in the code, or the user was using an outdated version of Weaviate or its components.\n",
    "\n",
    "    Only mark this as true if the user was asking about a feature or an aspect\n",
    "    that is not covered by the documentation, or the documentation was unclear or incorrect.\n",
    "    \"\"\",\n",
    ")\n",
    "\n",
    "create_summary = Operations.append_property(\n",
    "    property_name=\"summary\",\n",
    "    data_type=DataType.TEXT,\n",
    "    view_properties=[\"conversation\", \"title\"],\n",
    "    instruction=\"\"\"\n",
    "    Briefly summarize the user's question and the resolution provided (if any) in a few sentences.\n",
    "    \"\"\",\n",
    ")"
   ]
  },
  {
   "cell_type": "markdown",
   "id": "9ebe7433",
   "metadata": {},
   "source": [
    "Actually - you can define multiple operations to perform, and ask the TA to perform them all at once."
   ]
  },
  {
   "cell_type": "code",
   "execution_count": null,
   "id": "b57438ef",
   "metadata": {},
   "outputs": [],
   "source": [
    "ta = TransformationAgent(\n",
    "    client=client,\n",
    "    collection=\"ForumPost\",\n",
    "    operations=[\n",
    "        # Add the operations that we defined above\n",
    "        # ADD YOUR CODE HERE\n",
    "    ],\n",
    ")\n",
    "\n",
    "ta_response = ta.update_all()"
   ]
  },
  {
   "cell_type": "code",
   "execution_count": null,
   "id": "4915e5b1",
   "metadata": {},
   "outputs": [],
   "source": [
    "get_ta_status(agent_instance=ta, workflow_id=ta_response.workflow_id)"
   ]
  },
  {
   "cell_type": "code",
   "execution_count": null,
   "id": "88473fc8",
   "metadata": {},
   "outputs": [],
   "source": [
    "print(\"Currently existing properties:\\n\")\n",
    "for p in collection.config.get().properties:\n",
    "    print(f\"Property: {p.name}\")"
   ]
  },
  {
   "cell_type": "markdown",
   "id": "591ea597",
   "metadata": {},
   "source": [
    "## Queries enabled by the new properties"
   ]
  },
  {
   "cell_type": "code",
   "execution_count": null,
   "id": "04597370",
   "metadata": {},
   "outputs": [],
   "source": [
    "from weaviate.classes.aggregate import GroupByAggregate\n",
    "\n",
    "analysis_props = [\n",
    "    \"technicalComplexity\",\n",
    "    \"technicalDomain\",\n",
    "    \"rootCauseCategory\",\n",
    "    \"accessContext\",\n",
    "    \"causedByOutdatedStack\",\n",
    "    \"isDocumentationGap\"\n",
    "]\n",
    "\n",
    "for prop in analysis_props:\n",
    "\n",
    "    response = collection.aggregate.over_all(\n",
    "        group_by=GroupByAggregate(prop=prop)\n",
    "    )\n",
    "    print(f\"\\nProperty: {prop}\")\n",
    "    for group in response.groups:\n",
    "        print(f\"Value: {group.grouped_by} Count: {group.total_count}\")"
   ]
  },
  {
   "cell_type": "code",
   "execution_count": null,
   "id": "9cdf524a",
   "metadata": {},
   "outputs": [],
   "source": [
    "from weaviate.classes.query import Filter\n",
    "\n",
    "prop = \"technicalDomain\"\n",
    "response = collection.aggregate.over_all(\n",
    "    group_by=GroupByAggregate(prop=prop),\n",
    "    filters=Filter.by_property(name=\"rootCauseCategory\").equal(\"conceptual_misunderstanding\")\n",
    ")\n",
    "\n",
    "print(f\"\\nProperty: {prop}\")\n",
    "for group in response.groups:\n",
    "    print(f\"Value: {group.grouped_by} Count: {group.total_count}\")"
   ]
  },
  {
   "cell_type": "code",
   "execution_count": null,
   "id": "87b98319",
   "metadata": {},
   "outputs": [],
   "source": [
    "from weaviate.classes.generate import GenerativeConfig\n",
    "\n",
    "anthropic_key = os.getenv(\"ANTHROPIC_API_KEY\")\n",
    "\n",
    "client = weaviate.connect_to_weaviate_cloud(\n",
    "    cluster_url=weaviate_url,\n",
    "    auth_credentials=weaviate_api_key,\n",
    "    headers={\n",
    "        \"X-Anthropic-Api-Key\": anthropic_key,\n",
    "    }\n",
    ")\n",
    "\n",
    "collection = client.collections.get(\"ForumPost\")\n",
    "\n",
    "\n",
    "response = collection.generate.fetch_objects(\n",
    "    filters=(\n",
    "        Filter.by_property(name=\"rootCauseCategory\").equal(\"conceptual_misunderstanding\") &\n",
    "        Filter.by_property(name=\"technicalDomain\").equal(\"queries\")\n",
    "    ),\n",
    "    limit=100,\n",
    "    generative_provider=GenerativeConfig.anthropic(model=\"claude-3-7-sonnet-latest\"),\n",
    "    grouped_task=\"\"\"\n",
    "    From these Weaviate Forum post conversations, identify 3-5 most common things\n",
    "    that we can help users to understand better about Weaviate queries.\n",
    "    If possible, also provide a count of each type in the sample.\n",
    "    \"\"\",\n",
    "    grouped_properties=[\"summary\", \"title\"]\n",
    ")\n",
    "\n",
    "print(f\"\\n{response.generative.text}\")"
   ]
  },
  {
   "cell_type": "code",
   "execution_count": null,
   "id": "156c054a",
   "metadata": {},
   "outputs": [],
   "source": [
    "client.close()"
   ]
  }
 ],
 "metadata": {
  "kernelspec": {
   "display_name": ".venv",
   "language": "python",
   "name": "python3"
  },
  "language_info": {
   "codemirror_mode": {
    "name": "ipython",
    "version": 3
   },
   "file_extension": ".py",
   "mimetype": "text/x-python",
   "name": "python",
   "nbconvert_exporter": "python",
   "pygments_lexer": "ipython3",
   "version": "3.12.4"
  }
 },
 "nbformat": 4,
 "nbformat_minor": 5
}
