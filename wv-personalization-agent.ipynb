{
 "cells": [
  {
   "cell_type": "markdown",
   "id": "68734366",
   "metadata": {},
   "source": [
    "# Personalization Agent Demo\n",
    "\n",
    "## Connect to the Weaviate Cloud instance\n",
    "\n",
    "> Reminder: Weaviate Agents are only available for Weaviate Cloud instances.\n",
    "\n",
    "Connect to your Weaviate instance, using credentials from the Weaviate Cloud console. Here, they are loaded from the `.env` file."
   ]
  },
  {
   "cell_type": "code",
   "execution_count": null,
   "id": "ed1a937d",
   "metadata": {
    "editable": true,
    "slideshow": {
     "slide_type": ""
    },
    "tags": []
   },
   "outputs": [],
   "source": [
    "from dotenv import load_dotenv\n",
    "import weaviate\n",
    "import os\n",
    "\n",
    "load_dotenv()\n",
    "\n",
    "weaviate_url = os.getenv(\"WEAVIATE_URL\")\n",
    "weaviate_api_key = os.getenv(\"WEAVIATE_API_KEY\")\n",
    "\n",
    "client = weaviate.connect_to_weaviate_cloud(\n",
    "    cluster_url=weaviate_url,\n",
    "    auth_credentials=weaviate_api_key,\n",
    ")\n",
    "\n",
    "assert client.is_ready()"
   ]
  },
  {
   "cell_type": "markdown",
   "id": "49b49421",
   "metadata": {},
   "source": [
    "## Add data\n",
    "\n",
    "We add two datasets here, one with books and another with movies. The datasets are loaded from the Hugging Face Hub, and they are pre-vectorized using `Snowflake/snowflake-arctic-embed-l-v2.0`. "
   ]
  },
  {
   "cell_type": "markdown",
   "id": "b076a28d",
   "metadata": {},
   "source": [
    "### Load data & inspect it briefly"
   ]
  },
  {
   "cell_type": "code",
   "execution_count": null,
   "id": "3e804fc0",
   "metadata": {},
   "outputs": [],
   "source": [
    "from datasets import load_dataset\n",
    "\n",
    "movies_dataset = load_dataset(\"jphwang/weaviate-demos\", \"movies\", split=\"train\", streaming=True)"
   ]
  },
  {
   "cell_type": "code",
   "execution_count": null,
   "id": "47e7df6f",
   "metadata": {},
   "outputs": [],
   "source": [
    "for d in [movies_dataset]:\n",
    "    print(f\"Dataset: {d.config_name}\")\n",
    "    counter = 0\n",
    "    for o in d:\n",
    "        if counter >= 5:\n",
    "            break\n",
    "        print(o)\n",
    "        counter += 1"
   ]
  },
  {
   "cell_type": "markdown",
   "id": "8972b475",
   "metadata": {},
   "source": [
    "### Prepare the Collections\n",
    "\n",
    "Here we create collections and add the objects. "
   ]
  },
  {
   "cell_type": "code",
   "execution_count": null,
   "id": "dcd9f6dd",
   "metadata": {},
   "outputs": [],
   "source": [
    "# ONLY run this if you want to delete the existing collection & data\n",
    "client.collections.delete([\"Movie\"])"
   ]
  },
  {
   "cell_type": "code",
   "execution_count": null,
   "id": "2137df29",
   "metadata": {},
   "outputs": [],
   "source": [
    "from weaviate.classes.config import Configure, Property, DataType\n",
    "\n",
    "if not client.collections.exists(\"Movie\"):\n",
    "    client.collections.create(\n",
    "        \"Movie\",\n",
    "        description=\"A dataset that lists movies, their ratings, original language etc..\",\n",
    "        properties=[\n",
    "            Property(\n",
    "                name=\"title\",\n",
    "                data_type=DataType.TEXT,\n",
    "                description=\"The title of the movie\",\n",
    "            ),\n",
    "            Property(\n",
    "                name=\"release_year\",\n",
    "                data_type=DataType.INT,\n",
    "                description=\"The release year of the movie\",\n",
    "            ),\n",
    "            Property(\n",
    "                name=\"overview\",\n",
    "                data_type=DataType.TEXT,\n",
    "                description=\"Short description of the movie\",\n",
    "            ),\n",
    "            Property(\n",
    "                name=\"genres\",\n",
    "                data_type=DataType.TEXT_ARRAY,\n",
    "                description=\"The genres of the movie, in an array format\",\n",
    "            ),\n",
    "            Property(\n",
    "                name=\"vote_average\",\n",
    "                data_type=DataType.NUMBER,\n",
    "                description=\"The average user rating of the movie; range is 0-10\",\n",
    "            ),\n",
    "            Property(\n",
    "                name=\"vote_count\",\n",
    "                data_type=DataType.INT,\n",
    "                description=\"The number of user votes for the movie\",\n",
    "            ),\n",
    "            Property(\n",
    "                name=\"popularity\",\n",
    "                data_type=DataType.NUMBER,\n",
    "                description=\"Calculated popularity of the movie by weighing multiple factors; range is 0-100\",\n",
    "            ),\n",
    "            Property(\n",
    "                name=\"poster_url\",\n",
    "                data_type=DataType.TEXT,\n",
    "                description=\"A TMDB URL of the movie poster image\",\n",
    "            ),\n",
    "            Property(\n",
    "                name=\"original_language\",\n",
    "                data_type=DataType.TEXT,\n",
    "                description=\"A two-letter code (e.g. 'en') representing the original language of the movie\",\n",
    "            ),\n",
    "        ],\n",
    "        vectorizer_config=[\n",
    "            Configure.NamedVectors.text2vec_weaviate(\n",
    "                name=\"default\",\n",
    "                source_properties=[\"title\", \"description\"],\n",
    "                model=\"Snowflake/snowflake-arctic-embed-l-v2.0\"\n",
    "            )\n",
    "        ],\n",
    "    )"
   ]
  },
  {
   "cell_type": "markdown",
   "id": "9d72c442",
   "metadata": {},
   "source": [
    "Import data"
   ]
  },
  {
   "cell_type": "code",
   "execution_count": null,
   "id": "ad72e95b",
   "metadata": {},
   "outputs": [],
   "source": [
    "from tqdm import tqdm\n",
    "from weaviate.util import generate_uuid5\n",
    "\n",
    "movies = client.collections.get(\"Movie\")\n",
    "\n",
    "with movies.batch.fixed_size(batch_size=100) as batch:\n",
    "    for item in tqdm(movies_dataset):\n",
    "        obj = item[\"properties\"]\n",
    "\n",
    "        # Convert release_date to release_year\n",
    "        obj[\"release_year\"] = obj[\"release_date\"].year\n",
    "        obj.pop(\"release_date\")\n",
    "\n",
    "        # Add object to batch for import\n",
    "        batch.add_object(\n",
    "            properties=item[\"properties\"],\n",
    "            uuid=generate_uuid5(item[\"properties\"][\"title\"]),\n",
    "            vector={\"default\": item[\"vector\"]},\n",
    "        )\n",
    "\n",
    "# Check for any failed objects during import\n",
    "if movies.batch.failed_objects:\n",
    "    print(f\"{len(movies.batch.failed_objects)} objects failed during import:\")\n",
    "    for failed in movies.batch.failed_objects[:3]:\n",
    "        print(failed.message)"
   ]
  },
  {
   "cell_type": "markdown",
   "id": "a64a5c7b",
   "metadata": {},
   "source": [
    "## Connect to the Personalization Agent\n",
    "\n",
    "You can initialize the Personalization Agent, or connect to an existing one, as shown below."
   ]
  },
  {
   "cell_type": "code",
   "execution_count": null,
   "id": "fa8e11c4",
   "metadata": {},
   "outputs": [],
   "source": [
    "from weaviate.agents.personalization import PersonalizationAgent\n",
    "from weaviate.classes.config import DataType\n",
    "\n",
    "collection_name = \"Movie\"\n",
    "\n",
    "if PersonalizationAgent.exists(client, collection_name):\n",
    "    pa = PersonalizationAgent.connect(\n",
    "        # Fill in \"client\", \"reference_collection\" and \"vector_name\" parameters\n",
    "        # ADD YOUR CODE HERE\n",
    "    )\n",
    "else:\n",
    "    pa = PersonalizationAgent.create(\n",
    "        # Fill in \"client\", \"reference_collection\" and \"vector_name\" parameters\n",
    "        # ADD YOUR CODE HERE\n",
    "        user_properties={\n",
    "            \"age\": DataType.NUMBER,\n",
    "            \"favorite_genres\": DataType.TEXT_ARRAY,\n",
    "            \"favorite_years\": DataType.NUMBER_ARRAY,\n",
    "            \"language\": DataType.TEXT,\n",
    "        },\n",
    "    )"
   ]
  },
  {
   "cell_type": "markdown",
   "id": "2e6b1ef1",
   "metadata": {},
   "source": [
    "## Create a persona\n",
    "\n",
    "A \"persona\" is where the agent stores its knowledge about a user. You can add a persona or use an existing one. "
   ]
  },
  {
   "cell_type": "code",
   "execution_count": null,
   "id": "0e8b5cca",
   "metadata": {},
   "outputs": [],
   "source": [
    "from weaviate.agents.classes import Persona\n",
    "from weaviate.util import generate_uuid5\n",
    "from uuid import uuid4  # If you want to generate a random UUID\n",
    "\n",
    "persona_id = generate_uuid5(\"jphwang\")  # To generate a deterministic UUID\n",
    "# persona_id = uuid4()  # To generate a random UUID\n",
    "\n",
    "# You can delete a persona if you want to remove it from the system\n",
    "pa.delete_persona(persona_id)\n",
    "\n",
    "if pa.has_persona(persona_id):\n",
    "    print(f\"Persona with ID {persona_id} already exists.\")\n",
    "else:\n",
    "    print(f\"Creating new persona with ID {persona_id}.\")\n",
    "    pa.add_persona(\n",
    "        # Try adding your persona here\n",
    "        Persona(\n",
    "            # Add \"persona_id\" as above\n",
    "            # Add \"properties\" according to the data schema defined above\n",
    "            # ADD YOUR CODE HERE\n",
    "        )\n",
    "    )"
   ]
  },
  {
   "cell_type": "markdown",
   "id": "9fdb8c52",
   "metadata": {},
   "source": [
    "## Add interactions\n",
    "\n",
    "This is how the agent learns each persona's preferences."
   ]
  },
  {
   "cell_type": "code",
   "execution_count": null,
   "id": "4ece9acf",
   "metadata": {},
   "outputs": [],
   "source": [
    "from weaviate.agents.classes import PersonaInteraction\n",
    "from helpers import get_movie_uuid  # Helper to get the UUID of a movie\n",
    "\n",
    "pa.add_interactions(interactions=[\n",
    "    PersonaInteraction(\n",
    "        # Provide the \"persona_id\" and \"weight\" parameters\n",
    "        # ADD YOUR CODE HERE\n",
    "        # We need the item UUID - here, we'll use a helper function\n",
    "        # defined in helpers.py to make the job easier\n",
    "        item_id=get_movie_uuid(client, \"Independence Day\")\n",
    "    ),\n",
    "])"
   ]
  },
  {
   "cell_type": "markdown",
   "id": "ba2e5748",
   "metadata": {},
   "source": [
    "## Queries\n",
    "\n",
    "We can already perform queries.\n",
    "\n",
    "### Basic queries\n",
    "\n",
    "Fast, most basic personalized queries\n",
    "\n",
    "- Uses vectors of interaction history only"
   ]
  },
  {
   "cell_type": "code",
   "execution_count": null,
   "id": "fed85e2e",
   "metadata": {},
   "outputs": [],
   "source": [
    "response = pa.get_objects(\n",
    "    persona_id,\n",
    "    limit=50,\n",
    "    use_agent_ranking=False\n",
    ")"
   ]
  },
  {
   "cell_type": "markdown",
   "id": "a4a4c4d4",
   "metadata": {},
   "source": [
    "Print the results out - we've defined a helper function to do this. \n",
    "\n",
    "Note the `ranking_rationale` field, which explains any agentic reasons if any, and the `objects` field, which contains a list of objects returned by the agent."
   ]
  },
  {
   "cell_type": "code",
   "execution_count": null,
   "id": "8966f4ed",
   "metadata": {},
   "outputs": [],
   "source": [
    "from weaviate.agents.classes import PersonalizationAgentGetObjectsResponse\n",
    "\n",
    "\n",
    "def print_movie_response_details(response: PersonalizationAgentGetObjectsResponse, n_objects: int = 5, verbose = False) -> None:\n",
    "    if response.ranking_rationale is not None:\n",
    "        print(f\"Ranking rationale: {response.ranking_rationale}\")\n",
    "\n",
    "    for i, obj in enumerate(response.objects[:n_objects]):\n",
    "        print(f\"*****{i}*****\")\n",
    "        print(obj.properties[\"title\"])\n",
    "        print(obj.properties[\"genres\"])\n",
    "        if verbose:\n",
    "            print(obj.properties[\"overview\"])\n",
    "            print(obj.properties[\"release_date\"])\n",
    "            print(f\"vote_average: {obj.properties['vote_average']}\")\n",
    "            print(f\"vote_count: {obj.properties['vote_count']}\")\n",
    "            print(f\"popularity: {obj.properties['popularity']}\")\n",
    "        if obj.original_rank is not None:\n",
    "            print(f\"original rank: {obj.original_rank}, personalized rank: {obj.personalized_rank}\")\n"
   ]
  },
  {
   "cell_type": "code",
   "execution_count": null,
   "id": "f2ea0ed0",
   "metadata": {},
   "outputs": [],
   "source": [
    "print_movie_response_details(response, 5)"
   ]
  },
  {
   "cell_type": "markdown",
   "id": "e32d18a5",
   "metadata": {},
   "source": [
    "### Agent reranking\n",
    "\n",
    "The agent can smartly rerank the results based on the information about the persona, as well as the interactions."
   ]
  },
  {
   "cell_type": "code",
   "execution_count": null,
   "id": "78d38423",
   "metadata": {},
   "outputs": [],
   "source": [
    "response = pa.get_objects(\n",
    "    persona_id,\n",
    "    limit=50,\n",
    "    # Set the `use_agent_ranking` parameter (actually, it's True by default - but nice to know what it does :) )\n",
    "    # ADD YOUR CODE HERE\n",
    ")\n",
    "\n",
    "print_movie_response_details(response, 5)"
   ]
  },
  {
   "cell_type": "markdown",
   "id": "df2494c3",
   "metadata": {},
   "source": [
    "### With Reranker + Instruction\n",
    "\n",
    "- Uses vectors of interaction history and AI-based reranker\n",
    "- Instructions used to guide the reranker"
   ]
  },
  {
   "cell_type": "code",
   "execution_count": null,
   "id": "7e4ed4e4",
   "metadata": {},
   "outputs": [],
   "source": [
    "response = pa.get_objects(\n",
    "    persona_id,\n",
    "    limit=50,\n",
    "    use_agent_ranking=True,\n",
    "    # Set a custom instruction here\n",
    "    # ADD YOUR CODE HERE\n",
    ")\n",
    "\n",
    "print_movie_response_details(response, 5)"
   ]
  },
  {
   "cell_type": "markdown",
   "id": "1fc712fe",
   "metadata": {},
   "source": [
    "### Add more interactions\n",
    "\n",
    "Over time, you will add more interactions to the agent, which will help it learn more about the persona's preferences.\n",
    "\n",
    "Note each interaction can be positive or negative. \n",
    "(1: most positive, 0: neutral, -1: most negative)"
   ]
  },
  {
   "cell_type": "code",
   "execution_count": null,
   "id": "c264605a",
   "metadata": {},
   "outputs": [],
   "source": [
    "interactions = [\n",
    "    # Add further interactions here\n",
    "    PersonaInteraction(\n",
    "        persona_id=persona_id, item_id=get_movie_uuid(client, \"Iron Man\"), weight=0.9  # very positive\n",
    "    ),\n",
    "    PersonaInteraction(\n",
    "        persona_id=persona_id, item_id=get_movie_uuid(client, \"The Grand Budapest Hotel\"), weight=0.9\n",
    "    ),\n",
    "    PersonaInteraction(\n",
    "        persona_id=persona_id, item_id=get_movie_uuid(client, \"Sleepless in Seattle\"), weight=0.8\n",
    "    ),\n",
    "    PersonaInteraction(\n",
    "        persona_id=persona_id, item_id=get_movie_uuid(client, \"The Mummy\"), weight=0.0  # neutral\n",
    "    ),\n",
    "    PersonaInteraction(\n",
    "        persona_id=persona_id, item_id=get_movie_uuid(client, \"A Nightmare on Elm Street\"), weight=-0.3,  # little bit negative\n",
    "    ),\n",
    "    PersonaInteraction(\n",
    "        persona_id=persona_id, item_id=get_movie_uuid(client, \"The Cloverfield Paradox\"), weight=-0.9  # very negative\n",
    "    ),\n",
    "]\n",
    "\n",
    "pa.add_interactions(interactions=interactions)"
   ]
  },
  {
   "cell_type": "markdown",
   "id": "3190d8aa",
   "metadata": {},
   "source": [
    "### Retry with the updated knowledge"
   ]
  },
  {
   "cell_type": "code",
   "execution_count": null,
   "id": "ad7e4dfe",
   "metadata": {},
   "outputs": [],
   "source": [
    "# Try getting objects again - what happens?\n",
    "# ADD YOUR CODE HERE\n",
    "\n",
    "print_movie_response_details(response, 5)"
   ]
  },
  {
   "cell_type": "markdown",
   "id": "bb1ba135",
   "metadata": {},
   "source": [
    "### With Reranker + Instruction + Filter\n",
    "\n",
    "- The most complex personalized queries\n",
    "- Uses vectors of interaction history and AI-based reranker\n",
    "- Instructions used to guide the reranker\n",
    "- Filters out items that are not relevant to the user"
   ]
  },
  {
   "cell_type": "code",
   "execution_count": null,
   "id": "9243a90d",
   "metadata": {},
   "outputs": [],
   "source": [
    "from weaviate.classes.query import Filter\n",
    "\n",
    "# With Reranker + Instruction + Filter\n",
    "response = pa.get_objects(\n",
    "    persona_id,\n",
    "    limit=50,\n",
    "    use_agent_ranking=True,\n",
    "    instruction=\"The user is looking for a classic drama, that is suitable for a date night.\",\n",
    "    # Add a filter - can you filter by movies released in 2000 or earlier?\n",
    "    # ADD YOUR CODE HERE\n",
    ")"
   ]
  },
  {
   "cell_type": "code",
   "execution_count": null,
   "id": "11a55b54",
   "metadata": {},
   "outputs": [],
   "source": [
    "print_movie_response_details(response, 10)"
   ]
  },
  {
   "cell_type": "markdown",
   "id": "9e99b9f9",
   "metadata": {},
   "source": [
    "## Combine personalization with other queries\n",
    "\n",
    "From `pa.query`, you can perform the common Weaviate searches, such as `near_text`, `bm25` and `hybrid`"
   ]
  },
  {
   "cell_type": "code",
   "execution_count": null,
   "id": "bcbbe434",
   "metadata": {},
   "outputs": [],
   "source": [
    "response = pa.query(persona_id=persona_id, strength=0.95).hybrid(\n",
    "    query=\"historical adventure\",\n",
    "    limit=10\n",
    ")\n",
    "\n",
    "for o in response.objects:\n",
    "    print(f\"Title: {o.properties['title']}\")\n",
    "    print(f\"Genres: {o.properties['genres']}\")"
   ]
  },
  {
   "cell_type": "code",
   "execution_count": null,
   "id": "4d94c690",
   "metadata": {},
   "outputs": [],
   "source": [
    "# Try a semantic (near_text) search for titles similar to the word \"europe\"\n",
    "# ADD YOUR CODE HERE\n",
    "\n",
    "for o in response.objects:\n",
    "    print(f\"Title: {o.properties['title']}\")\n",
    "    print(f\"Genres: {o.properties['genres']}\")"
   ]
  },
  {
   "cell_type": "code",
   "execution_count": null,
   "id": "226df1e3",
   "metadata": {},
   "outputs": [],
   "source": [
    "client.close()"
   ]
  },
  {
   "cell_type": "code",
   "execution_count": null,
   "id": "6f1466b7",
   "metadata": {},
   "outputs": [],
   "source": []
  }
 ],
 "metadata": {
  "kernelspec": {
   "display_name": "weaviate-agents-workshop",
   "language": "python",
   "name": "python3"
  },
  "language_info": {
   "codemirror_mode": {
    "name": "ipython",
    "version": 3
   },
   "file_extension": ".py",
   "mimetype": "text/x-python",
   "name": "python",
   "nbconvert_exporter": "python",
   "pygments_lexer": "ipython3",
   "version": "3.10.16"
  }
 },
 "nbformat": 4,
 "nbformat_minor": 5
}
